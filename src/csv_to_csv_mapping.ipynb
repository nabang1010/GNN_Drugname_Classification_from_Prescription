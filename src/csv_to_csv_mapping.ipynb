{
 "cells": [
  {
   "cell_type": "code",
   "execution_count": 1,
   "metadata": {},
   "outputs": [],
   "source": [
    "import pandas   as pd\n",
    "import numpy    as np\n",
    "import os\n",
    "from tqdm import tqdm\n",
    "import json"
   ]
  },
  {
   "cell_type": "code",
   "execution_count": 2,
   "metadata": {},
   "outputs": [
    {
     "name": "stderr",
     "output_type": "stream",
     "text": [
      "File VAIPE_P_TRAIN_999.csv | : 100%|██████████| 1173/1173 [00:08<00:00, 134.10it/s]\n"
     ]
    }
   ],
   "source": [
    "data_csv_train_fd_path = \"/workspace/nabang1010/LBA_VAIPE/GNN/GNN_Drugnames_Extraction_from_Prescription/data_GNN/data_csv_train_gen\"\n",
    "data_csv_train_gen_mapping_fd_mapping = \"/workspace/nabang1010/LBA_VAIPE/GNN/GNN_Drugname_Classification_from_Prescription/data_GNN/data_csv_train_gen_mapping\"\n",
    "data_train_json_fd_path = \"/workspace/nabang1010/LBA_VAIPE/GNN/GNN_Drugname_Classification_from_Prescription/data_GNN/data_json_train\"\n",
    "\n",
    "list_csv_file = os.listdir(data_csv_train_fd_path)\n",
    "pbar = tqdm(sorted(list_csv_file))\n",
    "for csv_file in pbar:\n",
    "    pbar.set_description(\"File %s | \" % csv_file )\n",
    "    json_file = csv_file.replace(\".csv\", \".json\")\n",
    "    json_file_path = os.path.join(data_train_json_fd_path, json_file)\n",
    "    json_data = json.load(open(json_file_path, \"r\"))\n",
    "    csv_write_path = os.path.join(data_csv_train_gen_mapping_fd_mapping, csv_file)\n",
    "    # print(json_data)\n",
    "    # print()\n",
    "    df = pd.read_csv(os.path.join(data_csv_train_fd_path, csv_file))\n",
    "    # print(df[df[\"label\"] == \"drugname\"])\n",
    "    #fill all label diffirent drugname = \"\"\n",
    "    df[\"label\"] = df[\"label\"].apply(lambda x: \"\" if x != \"drugname\" else x)\n",
    "    # print(df)\n",
    "    df_drugname = df[df[\"label\"] == \"drugname\"]\n",
    "    # print(df_drugname)\n",
    "    for row in range(df_drugname.shape[0]):\n",
    "        drugname_row = df_drugname.iloc[row]\n",
    "        xmin = drugname_row[\"xmin\"]\n",
    "        xmax = drugname_row[\"xmax\"]\n",
    "        ymin = drugname_row[\"ymin\"]\n",
    "        ymax = drugname_row[\"ymax\"]\n",
    "        # get index of row\n",
    "        # df.index[df['BoolCol']]\n",
    "        index = df.index[(df['xmin'] == xmin) & (df['xmax'] == xmax) & (df['ymin'] == ymin) & (df['ymax'] == ymax)][0]\n",
    "        # print(index)\n",
    "        for box_text in json_data:\n",
    "            if box_text[\"label\"] == \"drugname\":\n",
    "                xmin_box = box_text[\"box\"][0]\n",
    "                xmax_box = box_text[\"box\"][2]\n",
    "                ymin_box = box_text[\"box\"][1]\n",
    "                ymax_box = box_text[\"box\"][3]\n",
    "                if xmin == xmin_box and xmax == xmax_box and ymin == ymin_box and ymax == ymax_box:\n",
    "                    # df.at[index,:].label = box_text[\"mapping\"]\\\n",
    "                    df.at[index, \"label\"] = str(box_text[\"mapping\"])\n",
    "                    # print(df[index,:])\n",
    "                    break\n",
    "    \n",
    "    df.to_csv(csv_write_path, index=False)\n",
    "    "
   ]
  }
 ],
 "metadata": {
  "kernelspec": {
   "display_name": "Python 3.7.13 ('gnn37')",
   "language": "python",
   "name": "python3"
  },
  "language_info": {
   "codemirror_mode": {
    "name": "ipython",
    "version": 3
   },
   "file_extension": ".py",
   "mimetype": "text/x-python",
   "name": "python",
   "nbconvert_exporter": "python",
   "pygments_lexer": "ipython3",
   "version": "3.7.13"
  },
  "orig_nbformat": 4,
  "vscode": {
   "interpreter": {
    "hash": "4a18edff942653a90035a566611ac115a998cb89865b1c11b9adf55702f0e531"
   }
  }
 },
 "nbformat": 4,
 "nbformat_minor": 2
}
